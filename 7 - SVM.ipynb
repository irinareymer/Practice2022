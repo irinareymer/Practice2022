{
 "cells": [
  {
   "cell_type": "markdown",
   "id": "c109450c",
   "metadata": {},
   "source": [
    "## Применение нейронных сетей в анализе звука"
   ]
  },
  {
   "cell_type": "code",
   "execution_count": 1,
   "id": "5cbbb5e6",
   "metadata": {},
   "outputs": [],
   "source": [
    "import librosa\n",
    "import pandas as pd\n",
    "import numpy as np\n",
    "import scipy\n",
    "import sklearn\n",
    "import os\n",
    "import csv"
   ]
  },
  {
   "cell_type": "markdown",
   "id": "e2c044d7",
   "metadata": {},
   "source": [
    "Рассмотрим аудио файлы в наборе данных:"
   ]
  },
  {
   "cell_type": "code",
   "execution_count": 2,
   "id": "b01aef1c",
   "metadata": {},
   "outputs": [
    {
     "name": "stdout",
     "output_type": "stream",
     "text": [
      "wav1 files: 10\n",
      "wav2 files: 10\n",
      "wav3 files: 10\n",
      "wav4 files: 10\n"
     ]
    }
   ],
   "source": [
    "wav1_dir, _, wav1_files = next(os.walk('audio/svm/wav1'))\n",
    "wav2_dir, _, wav2_files = next(os.walk('audio/svm/wav2'))\n",
    "wav3_dir, _, wav3_files = next(os.walk('audio/svm/wav3'))\n",
    "wav4_dir, _, wav4_files = next(os.walk('audio/svm/wav4'))\n",
    "print(f\"wav1 files: {len(wav1_files)}\\nwav2 files: {len(wav2_files)}\\nwav3 files: {len(wav3_files)}\\nwav4 files: {len(wav4_files)}\")"
   ]
  },
  {
   "cell_type": "markdown",
   "id": "ad52d6e4",
   "metadata": {},
   "source": [
    "Из всех аудиофайлов в наборе данных с помощью библиотеки librosa - librosa.feature, метода append( ) и метода extend( ) проводим:\n",
    "<li> Извлечение из Мел-кепстральных коэффициентов - средние значения и стандартные отклонения (по 13 значений); </li>\n",
    "<li> Извлечение из Спектрального центроида - среднее значение, стандартное отклонение и skew (наклон); </li>\n",
    "<li> Извлечение из Спектрального спада - среднее значение и стандартное отклонение; </li>"
   ]
  },
  {
   "cell_type": "code",
   "execution_count": 3,
   "id": "d72815f4",
   "metadata": {},
   "outputs": [],
   "source": [
    "def extract_features(directory, file):\n",
    "    name = f'{directory}/{file}'\n",
    "    y, sr = librosa.load(name, mono=True, duration=5)\n",
    "    \n",
    "    features = [] \n",
    "    features.append(file)                                                                           # filename\n",
    "    features.extend([np.mean(e) for e in librosa.feature.mfcc(y=y, sr=sr, n_mfcc=13)])              # mfcc_mean<0..13>\n",
    "    features.extend([np.std(e) for e in librosa.feature.mfcc(y=y, sr=sr, n_mfcc=13)])               # mfcc_std<0..13>\n",
    "    features.append(np.mean(librosa.feature.spectral_centroid(y=y, sr=sr).T, axis = 0)[0])          # cent_mean\n",
    "    features.append(np.std(librosa.feature.spectral_centroid(y=y,sr=sr).T, axis = 0)[0])            # cent_std\n",
    "    features.append(scipy.stats.skew(librosa.feature.spectral_centroid(y=y,sr=sr).T, axis = 0)[0])  # cent_skew\n",
    "    features.append(np.mean(librosa.feature.spectral_rolloff(y=y, sr=sr).T, axis = 0)[0])           # rolloff_mean\n",
    "    features.append(np.std(librosa.feature.spectral_rolloff(y=y, sr=sr).T, axis = 0)[0])            # rolloff_std\n",
    "    features.append(directory.split('/')[-1])\n",
    "    \n",
    "    return features"
   ]
  },
  {
   "cell_type": "markdown",
   "id": "186dc558",
   "metadata": {},
   "source": [
    "Извлечение и сохранение значений в формате CSV файла:"
   ]
  },
  {
   "cell_type": "code",
   "execution_count": 4,
   "id": "fa015f59",
   "metadata": {},
   "outputs": [
    {
     "name": "stdout",
     "output_type": "stream",
     "text": [
      "- [wav1] Write 10 rows\n",
      "- [wav1] Writing complete\n",
      "- [wav2] Write 10 rows\n",
      "- [wav2] Writing complete\n",
      "- [wav3] Write 10 rows\n",
      "- [wav3] Writing complete\n",
      "- [wav4] Write 10 rows\n",
      "- [wav4] Writing complete\n"
     ]
    }
   ],
   "source": [
    "buffer = []\n",
    "buffer_size = 5000\n",
    "buffer_counter = 0\n",
    "\n",
    "header = ['filename']\n",
    "header.extend([f'mfcc_mean{i}' for i in range(1, 14)])\n",
    "header.extend([f'mfcc_std{i}' for i in range(1, 14)])\n",
    "header.extend(['cent_mean', 'cent_std', 'cent_skew', 'rolloff_mean', 'rolloff_std', 'label'])\n",
    "\n",
    "with open('dataset.csv', 'w', newline='') as file:\n",
    "    writer = csv.writer(file, delimiter=',')\n",
    "    writer.writerow(header)\n",
    "    for directory, files in [(wav1_dir, wav1_files), (wav2_dir, wav2_files), (wav3_dir, wav3_files), (wav4_dir, wav4_files)]:\n",
    "        for file in files:\n",
    "            features = extract_features(directory, file)\n",
    "            if buffer_counter + 1 == buffer_size:\n",
    "                buffer.append(features)\n",
    "                writer.writerows(buffer)\n",
    "                print(f\"- [{directory.split('/')[-1]}] Write {len(buffer)} rows\")\n",
    "                buffer = []\n",
    "                buffer_counter = 0\n",
    "            else:\n",
    "                buffer.append(features)\n",
    "                buffer_counter += 1\n",
    "        if buffer:\n",
    "            writer.writerows(buffer)\n",
    "            print(f\"- [{directory.split('/')[-1]}] Write {len(buffer)} rows\") \n",
    "        print(f\"- [{directory.split('/')[-1]}] Writing complete\")\n",
    "        buffer = []\n",
    "        buffer_counter = 0"
   ]
  },
  {
   "cell_type": "markdown",
   "id": "6308c02b",
   "metadata": {},
   "source": [
    "Загрузка CSV файла"
   ]
  },
  {
   "cell_type": "code",
   "execution_count": 5,
   "id": "d94117d5",
   "metadata": {},
   "outputs": [
    {
     "data": {
      "text/html": [
       "<div>\n",
       "<style scoped>\n",
       "    .dataframe tbody tr th:only-of-type {\n",
       "        vertical-align: middle;\n",
       "    }\n",
       "\n",
       "    .dataframe tbody tr th {\n",
       "        vertical-align: top;\n",
       "    }\n",
       "\n",
       "    .dataframe thead th {\n",
       "        text-align: right;\n",
       "    }\n",
       "</style>\n",
       "<table border=\"1\" class=\"dataframe\">\n",
       "  <thead>\n",
       "    <tr style=\"text-align: right;\">\n",
       "      <th></th>\n",
       "      <th>filename</th>\n",
       "      <th>mfcc_mean1</th>\n",
       "      <th>mfcc_mean2</th>\n",
       "      <th>mfcc_mean3</th>\n",
       "      <th>mfcc_mean4</th>\n",
       "      <th>mfcc_mean5</th>\n",
       "      <th>mfcc_mean6</th>\n",
       "      <th>mfcc_mean7</th>\n",
       "      <th>mfcc_mean8</th>\n",
       "      <th>mfcc_mean9</th>\n",
       "      <th>...</th>\n",
       "      <th>mfcc_std10</th>\n",
       "      <th>mfcc_std11</th>\n",
       "      <th>mfcc_std12</th>\n",
       "      <th>mfcc_std13</th>\n",
       "      <th>cent_mean</th>\n",
       "      <th>cent_std</th>\n",
       "      <th>cent_skew</th>\n",
       "      <th>rolloff_mean</th>\n",
       "      <th>rolloff_std</th>\n",
       "      <th>label</th>\n",
       "    </tr>\n",
       "  </thead>\n",
       "  <tbody>\n",
       "    <tr>\n",
       "      <th>0</th>\n",
       "      <td>e0346.wav</td>\n",
       "      <td>-499.87265</td>\n",
       "      <td>119.811070</td>\n",
       "      <td>-69.236660</td>\n",
       "      <td>16.326145</td>\n",
       "      <td>-2.472070</td>\n",
       "      <td>-14.168089</td>\n",
       "      <td>-16.978210</td>\n",
       "      <td>-9.742417</td>\n",
       "      <td>-8.744191</td>\n",
       "      <td>...</td>\n",
       "      <td>10.882130</td>\n",
       "      <td>13.849910</td>\n",
       "      <td>11.041399</td>\n",
       "      <td>9.977660</td>\n",
       "      <td>2076.460751</td>\n",
       "      <td>843.737212</td>\n",
       "      <td>1.217495</td>\n",
       "      <td>3606.213379</td>\n",
       "      <td>1645.860409</td>\n",
       "      <td>wav1</td>\n",
       "    </tr>\n",
       "    <tr>\n",
       "      <th>1</th>\n",
       "      <td>e0347.wav</td>\n",
       "      <td>-523.26440</td>\n",
       "      <td>121.582800</td>\n",
       "      <td>-85.195260</td>\n",
       "      <td>28.111979</td>\n",
       "      <td>-2.020563</td>\n",
       "      <td>-4.897916</td>\n",
       "      <td>-20.038010</td>\n",
       "      <td>-11.397475</td>\n",
       "      <td>-8.751575</td>\n",
       "      <td>...</td>\n",
       "      <td>14.846037</td>\n",
       "      <td>10.153871</td>\n",
       "      <td>11.159391</td>\n",
       "      <td>8.089673</td>\n",
       "      <td>2100.568407</td>\n",
       "      <td>810.919912</td>\n",
       "      <td>1.137475</td>\n",
       "      <td>3235.313924</td>\n",
       "      <td>1281.917788</td>\n",
       "      <td>wav1</td>\n",
       "    </tr>\n",
       "    <tr>\n",
       "      <th>2</th>\n",
       "      <td>e0348.wav</td>\n",
       "      <td>-535.78906</td>\n",
       "      <td>122.248955</td>\n",
       "      <td>-68.690620</td>\n",
       "      <td>13.530365</td>\n",
       "      <td>-5.120312</td>\n",
       "      <td>-15.022529</td>\n",
       "      <td>-19.569761</td>\n",
       "      <td>-5.859893</td>\n",
       "      <td>-8.050721</td>\n",
       "      <td>...</td>\n",
       "      <td>15.039412</td>\n",
       "      <td>11.968068</td>\n",
       "      <td>10.047459</td>\n",
       "      <td>9.637810</td>\n",
       "      <td>2103.405813</td>\n",
       "      <td>909.587344</td>\n",
       "      <td>1.141859</td>\n",
       "      <td>3578.798421</td>\n",
       "      <td>1672.138327</td>\n",
       "      <td>wav1</td>\n",
       "    </tr>\n",
       "    <tr>\n",
       "      <th>3</th>\n",
       "      <td>e0349.wav</td>\n",
       "      <td>-565.35504</td>\n",
       "      <td>105.944530</td>\n",
       "      <td>-58.878956</td>\n",
       "      <td>16.648294</td>\n",
       "      <td>-0.114853</td>\n",
       "      <td>-9.569576</td>\n",
       "      <td>-10.512609</td>\n",
       "      <td>-3.712021</td>\n",
       "      <td>-4.109455</td>\n",
       "      <td>...</td>\n",
       "      <td>14.083085</td>\n",
       "      <td>11.421207</td>\n",
       "      <td>8.447350</td>\n",
       "      <td>7.460106</td>\n",
       "      <td>2280.545331</td>\n",
       "      <td>738.086737</td>\n",
       "      <td>0.639644</td>\n",
       "      <td>4140.206909</td>\n",
       "      <td>1596.796477</td>\n",
       "      <td>wav1</td>\n",
       "    </tr>\n",
       "    <tr>\n",
       "      <th>4</th>\n",
       "      <td>e0350.wav</td>\n",
       "      <td>-539.70496</td>\n",
       "      <td>107.440480</td>\n",
       "      <td>-63.355556</td>\n",
       "      <td>21.695900</td>\n",
       "      <td>4.090648</td>\n",
       "      <td>-9.275818</td>\n",
       "      <td>-17.341760</td>\n",
       "      <td>-4.672110</td>\n",
       "      <td>-10.452682</td>\n",
       "      <td>...</td>\n",
       "      <td>14.248458</td>\n",
       "      <td>12.401202</td>\n",
       "      <td>10.857938</td>\n",
       "      <td>9.210695</td>\n",
       "      <td>2214.048516</td>\n",
       "      <td>896.925732</td>\n",
       "      <td>1.017873</td>\n",
       "      <td>3745.730591</td>\n",
       "      <td>1635.356403</td>\n",
       "      <td>wav1</td>\n",
       "    </tr>\n",
       "  </tbody>\n",
       "</table>\n",
       "<p>5 rows × 33 columns</p>\n",
       "</div>"
      ],
      "text/plain": [
       "    filename  mfcc_mean1  mfcc_mean2  mfcc_mean3  mfcc_mean4  mfcc_mean5  \\\n",
       "0  e0346.wav  -499.87265  119.811070  -69.236660   16.326145   -2.472070   \n",
       "1  e0347.wav  -523.26440  121.582800  -85.195260   28.111979   -2.020563   \n",
       "2  e0348.wav  -535.78906  122.248955  -68.690620   13.530365   -5.120312   \n",
       "3  e0349.wav  -565.35504  105.944530  -58.878956   16.648294   -0.114853   \n",
       "4  e0350.wav  -539.70496  107.440480  -63.355556   21.695900    4.090648   \n",
       "\n",
       "   mfcc_mean6  mfcc_mean7  mfcc_mean8  mfcc_mean9  ...  mfcc_std10  \\\n",
       "0  -14.168089  -16.978210   -9.742417   -8.744191  ...   10.882130   \n",
       "1   -4.897916  -20.038010  -11.397475   -8.751575  ...   14.846037   \n",
       "2  -15.022529  -19.569761   -5.859893   -8.050721  ...   15.039412   \n",
       "3   -9.569576  -10.512609   -3.712021   -4.109455  ...   14.083085   \n",
       "4   -9.275818  -17.341760   -4.672110  -10.452682  ...   14.248458   \n",
       "\n",
       "   mfcc_std11  mfcc_std12  mfcc_std13    cent_mean    cent_std  cent_skew  \\\n",
       "0   13.849910   11.041399    9.977660  2076.460751  843.737212   1.217495   \n",
       "1   10.153871   11.159391    8.089673  2100.568407  810.919912   1.137475   \n",
       "2   11.968068   10.047459    9.637810  2103.405813  909.587344   1.141859   \n",
       "3   11.421207    8.447350    7.460106  2280.545331  738.086737   0.639644   \n",
       "4   12.401202   10.857938    9.210695  2214.048516  896.925732   1.017873   \n",
       "\n",
       "   rolloff_mean  rolloff_std  label  \n",
       "0   3606.213379  1645.860409   wav1  \n",
       "1   3235.313924  1281.917788   wav1  \n",
       "2   3578.798421  1672.138327   wav1  \n",
       "3   4140.206909  1596.796477   wav1  \n",
       "4   3745.730591  1635.356403   wav1  \n",
       "\n",
       "[5 rows x 33 columns]"
      ]
     },
     "execution_count": 5,
     "metadata": {},
     "output_type": "execute_result"
    }
   ],
   "source": [
    "data = pd.read_csv('dataset.csv')\n",
    "data[0:5]"
   ]
  },
  {
   "cell_type": "code",
   "execution_count": 6,
   "id": "def87274",
   "metadata": {},
   "outputs": [
    {
     "data": {
      "text/plain": [
       "(40, 33)"
      ]
     },
     "execution_count": 6,
     "metadata": {},
     "output_type": "execute_result"
    }
   ],
   "source": [
    "data.shape"
   ]
  },
  {
   "cell_type": "markdown",
   "id": "0cda828e",
   "metadata": {},
   "source": [
    "<li> столбец filename —  номер и название файла. </li> \n",
    "<li> столбцы mfcc_mean{i} и mfcc_std{i} - средние значения и стандартные отклонения (по 13 значений) из Мел-кепстральных коэффициентов. </li> \n",
    "<li> столбцы cent_mean, cent_std, cent_skew - среднее значение, стандартное отклонение и skew (наклон) из Спектрального центроида. </li> \n",
    "<li> столбцы rolloff_mean, rolloff_std - среднее значение и стандартное отклонение из Спектрального спада. </li> \n",
    "<li> столбец label — метка. </li> "
   ]
  },
  {
   "cell_type": "markdown",
   "id": "9329591e",
   "metadata": {},
   "source": [
    "Целевой атрибут в классификации является категориальной переменной в колонке label - это метка (правильный ответ). Учитывая набор обучающих точек данных вместе с целевыми метками, классификация определяет метку класса для немаркированного тестового случая."
   ]
  },
  {
   "cell_type": "markdown",
   "id": "2abcee46",
   "metadata": {},
   "source": [
    "Посмотрим на подсчет значений в колонке label."
   ]
  },
  {
   "cell_type": "code",
   "execution_count": 7,
   "id": "cfbb52e0",
   "metadata": {},
   "outputs": [
    {
     "data": {
      "text/plain": [
       "wav2    10\n",
       "wav3    10\n",
       "wav1    10\n",
       "wav4    10\n",
       "Name: label, dtype: int64"
      ]
     },
     "execution_count": 7,
     "metadata": {},
     "output_type": "execute_result"
    }
   ],
   "source": [
    "data['label'].value_counts()"
   ]
  },
  {
   "cell_type": "markdown",
   "id": "468bae5b",
   "metadata": {},
   "source": [
    "Пусть y - зависимая (целевая) переменная (колонка label)"
   ]
  },
  {
   "cell_type": "code",
   "execution_count": 8,
   "id": "ac013d86",
   "metadata": {},
   "outputs": [
    {
     "data": {
      "text/plain": [
       "array(['wav1', 'wav1', 'wav1', 'wav1', 'wav1'], dtype=object)"
      ]
     },
     "execution_count": 8,
     "metadata": {},
     "output_type": "execute_result"
    }
   ],
   "source": [
    "y = data['label'].values\n",
    "y[0:5]"
   ]
  },
  {
   "cell_type": "markdown",
   "id": "e1adbaac",
   "metadata": {},
   "source": [
    "Посмотрим на название колонок в наборе данных:"
   ]
  },
  {
   "cell_type": "code",
   "execution_count": 9,
   "id": "d75c52c7",
   "metadata": {},
   "outputs": [
    {
     "data": {
      "text/plain": [
       "Index(['filename', 'mfcc_mean1', 'mfcc_mean2', 'mfcc_mean3', 'mfcc_mean4',\n",
       "       'mfcc_mean5', 'mfcc_mean6', 'mfcc_mean7', 'mfcc_mean8', 'mfcc_mean9',\n",
       "       'mfcc_mean10', 'mfcc_mean11', 'mfcc_mean12', 'mfcc_mean13', 'mfcc_std1',\n",
       "       'mfcc_std2', 'mfcc_std3', 'mfcc_std4', 'mfcc_std5', 'mfcc_std6',\n",
       "       'mfcc_std7', 'mfcc_std8', 'mfcc_std9', 'mfcc_std10', 'mfcc_std11',\n",
       "       'mfcc_std12', 'mfcc_std13', 'cent_mean', 'cent_std', 'cent_skew',\n",
       "       'rolloff_mean', 'rolloff_std', 'label'],\n",
       "      dtype='object')"
      ]
     },
     "execution_count": 9,
     "metadata": {},
     "output_type": "execute_result"
    }
   ],
   "source": [
    "data.columns"
   ]
  },
  {
   "cell_type": "markdown",
   "id": "ea88d35f",
   "metadata": {},
   "source": [
    "Пусть X - независимые переменные (значимые характеристики аудиоданных)"
   ]
  },
  {
   "cell_type": "code",
   "execution_count": 10,
   "id": "9c11075a",
   "metadata": {},
   "outputs": [
    {
     "data": {
      "text/html": [
       "<div>\n",
       "<style scoped>\n",
       "    .dataframe tbody tr th:only-of-type {\n",
       "        vertical-align: middle;\n",
       "    }\n",
       "\n",
       "    .dataframe tbody tr th {\n",
       "        vertical-align: top;\n",
       "    }\n",
       "\n",
       "    .dataframe thead th {\n",
       "        text-align: right;\n",
       "    }\n",
       "</style>\n",
       "<table border=\"1\" class=\"dataframe\">\n",
       "  <thead>\n",
       "    <tr style=\"text-align: right;\">\n",
       "      <th></th>\n",
       "      <th>mfcc_mean1</th>\n",
       "      <th>mfcc_mean2</th>\n",
       "      <th>mfcc_mean3</th>\n",
       "      <th>mfcc_mean4</th>\n",
       "      <th>mfcc_mean5</th>\n",
       "      <th>mfcc_mean6</th>\n",
       "      <th>mfcc_mean7</th>\n",
       "      <th>mfcc_mean8</th>\n",
       "      <th>mfcc_mean9</th>\n",
       "      <th>mfcc_mean10</th>\n",
       "      <th>...</th>\n",
       "      <th>mfcc_std9</th>\n",
       "      <th>mfcc_std10</th>\n",
       "      <th>mfcc_std11</th>\n",
       "      <th>mfcc_std12</th>\n",
       "      <th>mfcc_std13</th>\n",
       "      <th>cent_mean</th>\n",
       "      <th>cent_std</th>\n",
       "      <th>cent_skew</th>\n",
       "      <th>rolloff_mean</th>\n",
       "      <th>rolloff_std</th>\n",
       "    </tr>\n",
       "  </thead>\n",
       "  <tbody>\n",
       "    <tr>\n",
       "      <th>0</th>\n",
       "      <td>-499.87265</td>\n",
       "      <td>119.811070</td>\n",
       "      <td>-69.236660</td>\n",
       "      <td>16.326145</td>\n",
       "      <td>-2.472070</td>\n",
       "      <td>-14.168089</td>\n",
       "      <td>-16.978210</td>\n",
       "      <td>-9.742417</td>\n",
       "      <td>-8.744191</td>\n",
       "      <td>-7.401200</td>\n",
       "      <td>...</td>\n",
       "      <td>12.331656</td>\n",
       "      <td>10.882130</td>\n",
       "      <td>13.849910</td>\n",
       "      <td>11.041399</td>\n",
       "      <td>9.977660</td>\n",
       "      <td>2076.460751</td>\n",
       "      <td>843.737212</td>\n",
       "      <td>1.217495</td>\n",
       "      <td>3606.213379</td>\n",
       "      <td>1645.860409</td>\n",
       "    </tr>\n",
       "    <tr>\n",
       "      <th>1</th>\n",
       "      <td>-523.26440</td>\n",
       "      <td>121.582800</td>\n",
       "      <td>-85.195260</td>\n",
       "      <td>28.111979</td>\n",
       "      <td>-2.020563</td>\n",
       "      <td>-4.897916</td>\n",
       "      <td>-20.038010</td>\n",
       "      <td>-11.397475</td>\n",
       "      <td>-8.751575</td>\n",
       "      <td>-11.714219</td>\n",
       "      <td>...</td>\n",
       "      <td>12.370551</td>\n",
       "      <td>14.846037</td>\n",
       "      <td>10.153871</td>\n",
       "      <td>11.159391</td>\n",
       "      <td>8.089673</td>\n",
       "      <td>2100.568407</td>\n",
       "      <td>810.919912</td>\n",
       "      <td>1.137475</td>\n",
       "      <td>3235.313924</td>\n",
       "      <td>1281.917788</td>\n",
       "    </tr>\n",
       "    <tr>\n",
       "      <th>2</th>\n",
       "      <td>-535.78906</td>\n",
       "      <td>122.248955</td>\n",
       "      <td>-68.690620</td>\n",
       "      <td>13.530365</td>\n",
       "      <td>-5.120312</td>\n",
       "      <td>-15.022529</td>\n",
       "      <td>-19.569761</td>\n",
       "      <td>-5.859893</td>\n",
       "      <td>-8.050721</td>\n",
       "      <td>-12.130071</td>\n",
       "      <td>...</td>\n",
       "      <td>14.160710</td>\n",
       "      <td>15.039412</td>\n",
       "      <td>11.968068</td>\n",
       "      <td>10.047459</td>\n",
       "      <td>9.637810</td>\n",
       "      <td>2103.405813</td>\n",
       "      <td>909.587344</td>\n",
       "      <td>1.141859</td>\n",
       "      <td>3578.798421</td>\n",
       "      <td>1672.138327</td>\n",
       "    </tr>\n",
       "    <tr>\n",
       "      <th>3</th>\n",
       "      <td>-565.35504</td>\n",
       "      <td>105.944530</td>\n",
       "      <td>-58.878956</td>\n",
       "      <td>16.648294</td>\n",
       "      <td>-0.114853</td>\n",
       "      <td>-9.569576</td>\n",
       "      <td>-10.512609</td>\n",
       "      <td>-3.712021</td>\n",
       "      <td>-4.109455</td>\n",
       "      <td>-7.870796</td>\n",
       "      <td>...</td>\n",
       "      <td>13.689024</td>\n",
       "      <td>14.083085</td>\n",
       "      <td>11.421207</td>\n",
       "      <td>8.447350</td>\n",
       "      <td>7.460106</td>\n",
       "      <td>2280.545331</td>\n",
       "      <td>738.086737</td>\n",
       "      <td>0.639644</td>\n",
       "      <td>4140.206909</td>\n",
       "      <td>1596.796477</td>\n",
       "    </tr>\n",
       "    <tr>\n",
       "      <th>4</th>\n",
       "      <td>-539.70496</td>\n",
       "      <td>107.440480</td>\n",
       "      <td>-63.355556</td>\n",
       "      <td>21.695900</td>\n",
       "      <td>4.090648</td>\n",
       "      <td>-9.275818</td>\n",
       "      <td>-17.341760</td>\n",
       "      <td>-4.672110</td>\n",
       "      <td>-10.452682</td>\n",
       "      <td>-11.815496</td>\n",
       "      <td>...</td>\n",
       "      <td>14.379725</td>\n",
       "      <td>14.248458</td>\n",
       "      <td>12.401202</td>\n",
       "      <td>10.857938</td>\n",
       "      <td>9.210695</td>\n",
       "      <td>2214.048516</td>\n",
       "      <td>896.925732</td>\n",
       "      <td>1.017873</td>\n",
       "      <td>3745.730591</td>\n",
       "      <td>1635.356403</td>\n",
       "    </tr>\n",
       "  </tbody>\n",
       "</table>\n",
       "<p>5 rows × 31 columns</p>\n",
       "</div>"
      ],
      "text/plain": [
       "   mfcc_mean1  mfcc_mean2  mfcc_mean3  mfcc_mean4  mfcc_mean5  mfcc_mean6  \\\n",
       "0  -499.87265  119.811070  -69.236660   16.326145   -2.472070  -14.168089   \n",
       "1  -523.26440  121.582800  -85.195260   28.111979   -2.020563   -4.897916   \n",
       "2  -535.78906  122.248955  -68.690620   13.530365   -5.120312  -15.022529   \n",
       "3  -565.35504  105.944530  -58.878956   16.648294   -0.114853   -9.569576   \n",
       "4  -539.70496  107.440480  -63.355556   21.695900    4.090648   -9.275818   \n",
       "\n",
       "   mfcc_mean7  mfcc_mean8  mfcc_mean9  mfcc_mean10  ...  mfcc_std9  \\\n",
       "0  -16.978210   -9.742417   -8.744191    -7.401200  ...  12.331656   \n",
       "1  -20.038010  -11.397475   -8.751575   -11.714219  ...  12.370551   \n",
       "2  -19.569761   -5.859893   -8.050721   -12.130071  ...  14.160710   \n",
       "3  -10.512609   -3.712021   -4.109455    -7.870796  ...  13.689024   \n",
       "4  -17.341760   -4.672110  -10.452682   -11.815496  ...  14.379725   \n",
       "\n",
       "   mfcc_std10  mfcc_std11  mfcc_std12  mfcc_std13    cent_mean    cent_std  \\\n",
       "0   10.882130   13.849910   11.041399    9.977660  2076.460751  843.737212   \n",
       "1   14.846037   10.153871   11.159391    8.089673  2100.568407  810.919912   \n",
       "2   15.039412   11.968068   10.047459    9.637810  2103.405813  909.587344   \n",
       "3   14.083085   11.421207    8.447350    7.460106  2280.545331  738.086737   \n",
       "4   14.248458   12.401202   10.857938    9.210695  2214.048516  896.925732   \n",
       "\n",
       "   cent_skew  rolloff_mean  rolloff_std  \n",
       "0   1.217495   3606.213379  1645.860409  \n",
       "1   1.137475   3235.313924  1281.917788  \n",
       "2   1.141859   3578.798421  1672.138327  \n",
       "3   0.639644   4140.206909  1596.796477  \n",
       "4   1.017873   3745.730591  1635.356403  \n",
       "\n",
       "[5 rows x 31 columns]"
      ]
     },
     "execution_count": 10,
     "metadata": {},
     "output_type": "execute_result"
    }
   ],
   "source": [
    "X = data[['mfcc_mean1', 'mfcc_mean2', 'mfcc_mean3', 'mfcc_mean4',\n",
    "       'mfcc_mean5', 'mfcc_mean6', 'mfcc_mean7', 'mfcc_mean8', 'mfcc_mean9',\n",
    "       'mfcc_mean10', 'mfcc_mean11', 'mfcc_mean12', 'mfcc_mean13', 'mfcc_std1',\n",
    "       'mfcc_std2', 'mfcc_std3', 'mfcc_std4', 'mfcc_std5', 'mfcc_std6',\n",
    "       'mfcc_std7', 'mfcc_std8', 'mfcc_std9', 'mfcc_std10', 'mfcc_std11',\n",
    "       'mfcc_std12', 'mfcc_std13', 'cent_mean', 'cent_std', 'cent_skew',\n",
    "       'rolloff_mean', 'rolloff_std']]\n",
    "X[0:5]"
   ]
  },
  {
   "cell_type": "markdown",
   "id": "a9d0a370",
   "metadata": {},
   "source": [
    "Если в наборе данных есть некоторые выбросы или значения переменных находятся в разных диапазонах, необходимо исправить их. \n",
    "Стандартизация данных дает нулевое среднее значение и единичную дисперсию."
   ]
  },
  {
   "cell_type": "code",
   "execution_count": 11,
   "id": "6870f4a4",
   "metadata": {},
   "outputs": [
    {
     "data": {
      "text/plain": [
       "array([[-0.64893425,  1.2795014 , -1.57273071, -0.35729162, -0.23215378,\n",
       "        -1.25110953, -0.68617175, -0.93690099, -0.60070567, -0.42668987,\n",
       "         0.6141391 , -0.02948268,  0.67089388,  0.27245456,  0.214985  ,\n",
       "         1.72052111,  1.27601498,  1.35390756,  0.82092133,  0.34114654,\n",
       "         1.41954698, -0.74358627, -0.90696898,  1.11006989,  0.37937571,\n",
       "         0.75930047, -0.13799005, -0.93069505,  0.29828881, -0.64763177,\n",
       "        -0.84494485],\n",
       "       [-0.88761035,  1.37504486, -2.06036174,  0.779931  , -0.16781674,\n",
       "        -0.40796915, -0.89923847, -1.11052176, -0.60200605, -1.00500938,\n",
       "         0.23792842, -0.42863978,  0.38786207, -1.41682663, -0.17293583,\n",
       "         0.90234038,  2.21920962,  1.08012773,  0.91290785,  1.07666855,\n",
       "         2.24527402, -0.72776881,  1.04480163, -0.57731988,  0.46994716,\n",
       "        -0.52624082, -0.05123389, -1.06674109,  0.18218141, -1.36518321,\n",
       "        -1.85866996]])"
      ]
     },
     "execution_count": 11,
     "metadata": {},
     "output_type": "execute_result"
    }
   ],
   "source": [
    "from sklearn import preprocessing\n",
    "X = preprocessing.StandardScaler().fit(X).transform(X)\n",
    "X[0:2]"
   ]
  },
  {
   "cell_type": "markdown",
   "id": "d1c30200",
   "metadata": {},
   "source": [
    "Разделение набора данных на тренировочные и тестовые наборы (train/test split):"
   ]
  },
  {
   "cell_type": "code",
   "execution_count": 12,
   "id": "d43fb496",
   "metadata": {},
   "outputs": [
    {
     "name": "stdout",
     "output_type": "stream",
     "text": [
      "Train set: (32, 31) (32,)\n",
      "Test set: (8, 31) (8,)\n"
     ]
    }
   ],
   "source": [
    "from sklearn.model_selection import train_test_split\n",
    "\n",
    "X_train, X_test, y_train, y_test = train_test_split(X, y, test_size=0.2, random_state=17)\n",
    "\n",
    "print ('Train set:', X_train.shape, y_train.shape)    \n",
    "print ('Test set:', X_test.shape, y_test.shape)"
   ]
  },
  {
   "cell_type": "markdown",
   "id": "36fced26",
   "metadata": {},
   "source": [
    "Обучим модель SVM (Support Vector Machines):"
   ]
  },
  {
   "cell_type": "code",
   "execution_count": 13,
   "id": "fb539724",
   "metadata": {},
   "outputs": [
    {
     "data": {
      "text/plain": [
       "array(['wav4', 'wav2', 'wav2', 'wav4', 'wav3', 'wav4', 'wav2', 'wav3'],\n",
       "      dtype=object)"
      ]
     },
     "execution_count": 13,
     "metadata": {},
     "output_type": "execute_result"
    }
   ],
   "source": [
    "from sklearn import svm\n",
    "\n",
    "clf = svm.SVC(kernel='rbf')   # функция ядра - RBF (радиальная базисная функция)\n",
    "clf.fit(X_train, y_train)     # Обучение модели на тренировочном наборе\n",
    "yhat = clf.predict(X_test)    # для прогнозирования новых значений:\n",
    "yhat[0:10]"
   ]
  },
  {
   "cell_type": "markdown",
   "id": "f7ba1ced",
   "metadata": {},
   "source": [
    "SVM  воспринимается как один из самых мощных алгоритмов обучения сложных нелинейных функции, \n",
    "очень широко используется как в промышленности, так и в академических кругах. \n",
    "И по сравнению с логистической регрессией и нейронными сетями, \n",
    "Support Vector Machine иногда дает более чистый, а иногда более мощный способ обучения сложным нелинейным функциям."
   ]
  },
  {
   "cell_type": "markdown",
   "id": "850a51d7",
   "metadata": {},
   "source": [
    "Сравнение значений:"
   ]
  },
  {
   "cell_type": "code",
   "execution_count": 14,
   "id": "0435f4da",
   "metadata": {},
   "outputs": [
    {
     "name": "stdout",
     "output_type": "stream",
     "text": [
      "Prediction: ['wav4' 'wav2' 'wav2' 'wav4' 'wav3' 'wav4' 'wav2' 'wav3']\n",
      "Real Value: ['wav4' 'wav2' 'wav2' 'wav4' 'wav3' 'wav4' 'wav2' 'wav3']\n"
     ]
    }
   ],
   "source": [
    "print(\"Prediction:\", yhat[0:20])\n",
    "print(\"Real Value:\", y_test[0:20])"
   ]
  },
  {
   "cell_type": "markdown",
   "id": "302b3249",
   "metadata": {},
   "source": [
    "Эффективность модели:"
   ]
  },
  {
   "cell_type": "code",
   "execution_count": 15,
   "id": "cb2c869f",
   "metadata": {},
   "outputs": [
    {
     "name": "stdout",
     "output_type": "stream",
     "text": [
      "Train set Accuracy:  1.0\n",
      "Test set Accuracy:  1.0\n"
     ]
    }
   ],
   "source": [
    "from sklearn import metrics\n",
    "print(\"Train set Accuracy: \", metrics.accuracy_score(y_train, clf.predict(X_train)))\n",
    "print(\"Test set Accuracy: \", metrics.accuracy_score(y_test, yhat) )"
   ]
  },
  {
   "cell_type": "markdown",
   "id": "cff61bf1",
   "metadata": {},
   "source": [
    "Accuracy — оценка классификации точности - это функция, которая вычисляет точность подмножества, \n",
    "долю правильных ответов алгоритма. \n",
    "По сути, он вычисляет, насколько точно совпадают фактические и прогнозируемые метки в тестовом наборе."
   ]
  },
  {
   "cell_type": "code",
   "execution_count": 16,
   "id": "41559db3",
   "metadata": {},
   "outputs": [
    {
     "name": "stdout",
     "output_type": "stream",
     "text": [
      "CONFUSION_MATRIX :\n",
      "\n",
      "[[3 0 0]\n",
      " [0 2 0]\n",
      " [0 0 3]]\n",
      "\n",
      "\n",
      "REPORT :\n",
      "\n",
      "              precision    recall  f1-score   support\n",
      "\n",
      "        wav2       1.00      1.00      1.00         3\n",
      "        wav3       1.00      1.00      1.00         2\n",
      "        wav4       1.00      1.00      1.00         3\n",
      "\n",
      "    accuracy                           1.00         8\n",
      "   macro avg       1.00      1.00      1.00         8\n",
      "weighted avg       1.00      1.00      1.00         8\n",
      "\n"
     ]
    }
   ],
   "source": [
    "from sklearn.metrics import classification_report, confusion_matrix\n",
    "\n",
    "print('CONFUSION_MATRIX :\\n')\n",
    "print(confusion_matrix(y_test, yhat))\n",
    "print('\\n')\n",
    "\n",
    "print('REPORT :\\n')\n",
    "print(classification_report(y_test, yhat))"
   ]
  },
  {
   "cell_type": "markdown",
   "id": "1b7178e1",
   "metadata": {},
   "source": [
    "F1 score — Confusion matrix показывает корректные и неправильные прогнозы по сравнению с фактическими метками. Каждая строка матрицы неточностей показывает метки Actual/True в тестовом наборе, а столбцы показывают прогнозируемые метки по классификатору. Мы можем интерпретировать эти числа как количество истинных положительных, ложных отрицательных, истинных отрицательных и ложных срабатываний.  Матрица неточностей показывает способность модели правильно предсказать или разделить классы."
   ]
  },
  {
   "cell_type": "markdown",
   "id": "e9b894c4",
   "metadata": {},
   "source": [
    "Precision — это мера точности при условии, что метка класса была предсказана."
   ]
  },
  {
   "cell_type": "markdown",
   "id": "90040e1c",
   "metadata": {},
   "source": [
    "Recall — измеряет способность модели обнаруживать выборки, при условии, что метка класса была предсказана."
   ]
  },
  {
   "cell_type": "markdown",
   "id": "bd297e3b",
   "metadata": {},
   "source": [
    "Support — количество верно предсказанных ответов в данном классе."
   ]
  },
  {
   "cell_type": "code",
   "execution_count": null,
   "id": "b0fa133f",
   "metadata": {},
   "outputs": [],
   "source": []
  }
 ],
 "metadata": {
  "kernelspec": {
   "display_name": "Python 3",
   "language": "python",
   "name": "python3"
  },
  "language_info": {
   "codemirror_mode": {
    "name": "ipython",
    "version": 3
   },
   "file_extension": ".py",
   "mimetype": "text/x-python",
   "name": "python",
   "nbconvert_exporter": "python",
   "pygments_lexer": "ipython3",
   "version": "3.8.8"
  }
 },
 "nbformat": 4,
 "nbformat_minor": 5
}
